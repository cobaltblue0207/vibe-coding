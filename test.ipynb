{
 "cells": [
  {
   "cell_type": "code",
   "execution_count": null,
   "id": "bc436974",
   "metadata": {},
   "outputs": [
    {
     "name": "stdout",
     "output_type": "stream",
     "text": [
      "28.274328\n",
      "9.424776000000001\n"
     ]
    }
   ],
   "source": [
    "class Circle:\n",
    "    def __init__(self, rad):\n",
    "        self.pi = 3.141592\n",
    "        self.radius = rad\n",
    "    \n",
    "    def get_area(self):\n",
    "        return self.pi * self.radius ** 2\n",
    "\n",
    "    def get_circumference(self):\n",
    "        return 2 * self.pi * (self.radius/2)\n",
    "\n",
    "if __name__ == \"__main__\":\n",
    "    circle = Circle(3)\n",
    "    print(circle.get_area())\n",
    "    print(circle.get_circumference())"
   ]
  },
  {
   "cell_type": "code",
   "execution_count": 14,
   "id": "ed54347a",
   "metadata": {},
   "outputs": [
    {
     "name": "stdout",
     "output_type": "stream",
     "text": [
      "study\n"
     ]
    }
   ],
   "source": [
    "from abc import *\n",
    "\n",
    "class StudentBase(metaclass=ABCMeta):\n",
    "    @abstractmethod\n",
    "    def study(self):\n",
    "        pass\n",
    "\n",
    "    @abstractmethod\n",
    "    def go_to_school(self):\n",
    "        pass\n",
    "\n",
    "class Student(StudentBase):\n",
    "    def study(self):\n",
    "        print(f'study')\n",
    "\n",
    "    def go_to_school(self):\n",
    "        print(f'go_to_school')\n",
    "\n",
    "james = Student()\n",
    "james.study()"
   ]
  },
  {
   "cell_type": "code",
   "execution_count": null,
   "id": "48bedf81",
   "metadata": {},
   "outputs": [],
   "source": []
  },
  {
   "cell_type": "code",
   "execution_count": 3,
   "id": "04d8e5b2",
   "metadata": {},
   "outputs": [
    {
     "data": {
      "text/plain": [
       "(7, 7)"
      ]
     },
     "execution_count": 3,
     "metadata": {},
     "output_type": "execute_result"
    }
   ],
   "source": [
    "a = ( b := 3 )\n",
    "b = ( a := 7 )\n",
    "\n",
    "a, b"
   ]
  },
  {
   "cell_type": "code",
   "execution_count": 44,
   "id": "ec4daf2f",
   "metadata": {},
   "outputs": [
    {
     "data": {
      "text/plain": [
       "[1, 2, 3, 4, 5, 6, 7, 8, 9, 10]"
      ]
     },
     "execution_count": 44,
     "metadata": {},
     "output_type": "execute_result"
    }
   ],
   "source": [
    "a = list(range(1, 11))\n",
    "a"
   ]
  },
  {
   "cell_type": "code",
   "execution_count": 9,
   "id": "4c916503",
   "metadata": {},
   "outputs": [
    {
     "data": {
      "text/plain": [
       "[9, 10]"
      ]
     },
     "execution_count": 9,
     "metadata": {},
     "output_type": "execute_result"
    }
   ],
   "source": [
    "sum_ = 0\n",
    "while ( sum_ := sum_ + a.pop(0) ) < 30:\n",
    "    pass\n",
    "\n",
    "a"
   ]
  },
  {
   "cell_type": "code",
   "execution_count": 55,
   "id": "8bba78d3",
   "metadata": {},
   "outputs": [
    {
     "data": {
      "text/plain": [
       "1"
      ]
     },
     "execution_count": 55,
     "metadata": {},
     "output_type": "execute_result"
    }
   ],
   "source": [
    "a.pop(-1)"
   ]
  },
  {
   "cell_type": "code",
   "execution_count": 56,
   "id": "687bb224",
   "metadata": {},
   "outputs": [
    {
     "data": {
      "text/plain": [
       "[]"
      ]
     },
     "execution_count": 56,
     "metadata": {},
     "output_type": "execute_result"
    }
   ],
   "source": [
    "a"
   ]
  }
 ],
 "metadata": {
  "kernelspec": {
   "display_name": "3.11.9",
   "language": "python",
   "name": "python3"
  },
  "language_info": {
   "codemirror_mode": {
    "name": "ipython",
    "version": 3
   },
   "file_extension": ".py",
   "mimetype": "text/x-python",
   "name": "python",
   "nbconvert_exporter": "python",
   "pygments_lexer": "ipython3",
   "version": "3.11.9"
  }
 },
 "nbformat": 4,
 "nbformat_minor": 5
}
